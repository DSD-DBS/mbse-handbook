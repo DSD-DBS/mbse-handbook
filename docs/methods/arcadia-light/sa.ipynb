{
 "cells": [
  {
   "cell_type": "markdown",
   "metadata": {},
   "source": [
    "Just in case if you don't have it yet - uncomment the below to install the dependencies"
   ]
  },
  {
   "cell_type": "code",
   "execution_count": 1,
   "metadata": {},
   "outputs": [],
   "source": [
    "#!pip install lxml\n",
    "#!pip install capellambse  # lxml dependency missing\n",
    "#!pip install capellambse-context-diagrams"
   ]
  },
  {
   "cell_type": "markdown",
   "metadata": {},
   "source": [
    "now lets load the coffee-machine model"
   ]
  },
  {
   "cell_type": "code",
   "execution_count": 31,
   "metadata": {},
   "outputs": [
    {
     "name": "stderr",
     "output_type": "stream",
     "text": [
      "Cannot load PVMT extension: ValueError: Provided model does not have a PropertyValuePkg\n",
      "Property values are not available in this model\n"
     ]
    }
   ],
   "source": [
    "from IPython.display import HTML\n",
    "import capellambse\n",
    "model = capellambse.model.MelodyModel(\"/home/viktor/workspaces/c52/coffee-machine-demo/coffee-machine-demo.aird\")"
   ]
  },
  {
   "cell_type": "code",
   "execution_count": 24,
   "metadata": {},
   "outputs": [
    {
     "data": {
      "text/html": [
       "<h1>StateTransition <span style=\"font-size: 70%;\">(org.polarsys.capella.core.data.capellacommon:StateTransition)</span></h1><table><tr><th style=\"text-align: right;\">constraints</th><td style=\"text-align: left;\"><ol start=\"0\" style=\"text-align: left;\"><li><strong>Constraint</strong> &quot;&quot; (ba5dc4a8-429c-4751-be3a-a9dd566ea19e)</li></ol></td></tr><tr><th style=\"text-align: right;\">description</th><td style=\"text-align: left;\"><em>None</em></td></tr><tr><th style=\"text-align: right;\">destination</th><td style=\"text-align: left;\"><strong>State</strong> &quot;Powered&quot; (0000bb4f-a06a-4e09-9f0b-df05b858d1d7)</td></tr><tr><th style=\"text-align: right;\">diagrams</th><td style=\"text-align: left;\"><p><em>(Empty list)</em></p></td></tr><tr><th style=\"text-align: right;\">effects</th><td style=\"text-align: left;\"><p><em>(Empty list)</em></p></td></tr><tr><th style=\"text-align: right;\">guard</th><td style=\"text-align: left;\"><strong>Constraint</strong> &quot;&quot; (ba5dc4a8-429c-4751-be3a-a9dd566ea19e)</td></tr><tr><th style=\"text-align: right;\">name</th><td style=\"text-align: left;\">(Unnamed org.polarsys.capella.core.data.capellacommon:StateTransition)</td></tr><tr><th style=\"text-align: right;\">parent</th><td style=\"text-align: left;\"><strong>Region</strong> &quot;Default Region&quot; (563b2a54-307b-4b8d-9e28-fdc2f1055928)</td></tr><tr><th style=\"text-align: right;\">progress_status</th><td style=\"text-align: left;\">NOT_SET</td></tr><tr><th style=\"text-align: right;\">requirements</th><td style=\"text-align: left;\"><p><em>(Empty list)</em></p></td></tr><tr><th style=\"text-align: right;\">source</th><td style=\"text-align: left;\"><strong>InitialPseudoState</strong> &quot;de-powered&quot; (9f69487e-afa9-4aa7-bc14-37a0bb7fcd75)</td></tr><tr><th style=\"text-align: right;\">summary</th><td style=\"text-align: left;\"><em>None</em></td></tr><tr><th style=\"text-align: right;\">traces</th><td style=\"text-align: left;\"><p><em>(Empty list)</em></p></td></tr><tr><th style=\"text-align: right;\">triggers</th><td style=\"text-align: left;\"><p><em>(Empty list)</em></p></td></tr><tr><th style=\"text-align: right;\">uuid</th><td style=\"text-align: left;\">79fbb70b-fe91-418b-bb4f-135c7e2b1994</td></tr><tr><th style=\"text-align: right;\">xtype</th><td style=\"text-align: left;\">org.polarsys.capella.core.data.capellacommon:StateTransition</td></tr></table>"
      ],
      "text/plain": [
       "<StateTransition '(Unnamed org.polarsys.capella.core.data.capellacommon:StateTransition)' (79fbb70b-fe91-418b-bb4f-135c7e2b1994)>\n",
       ".constraints = [0] <Constraint '' (ba5dc4a8-429c-4751-be3a-a9dd566ea19e)>\n",
       ".description = None\n",
       ".destination = <State 'Powered' (0000bb4f-a06a-4e09-9f0b-df05b858d1d7)>\n",
       ".diagrams = []\n",
       ".effects = []\n",
       ".guard = <Constraint '' (ba5dc4a8-429c-4751-be3a-a9dd566ea19e)>\n",
       ".name = '(Unnamed org.polarsys.capella.core.data.capellacommon:StateTransition)'\n",
       ".parent = <Region 'Default Region' (563b2a54-307b-4b8d-9e28-fdc2f1055928)>\n",
       ".progress_status = 'NOT_SET'\n",
       ".requirements = []\n",
       ".source = <InitialPseudoState 'de-powered' (9f69487e-afa9-4aa7-bc14-37a0bb7fcd75)>\n",
       ".summary = None\n",
       ".traces = []\n",
       ".triggers = []\n",
       ".uuid = '79fbb70b-fe91-418b-bb4f-135c7e2b1994'\n",
       ".xtype = 'org.polarsys.capella.core.data.capellacommon:StateTransition'"
      ]
     },
     "execution_count": 24,
     "metadata": {},
     "output_type": "execute_result"
    }
   ],
   "source": [
    "cmp = model.sa.root_component\n",
    "machine = cmp.state_machines[0]\n",
    "transition = machine.regions[0].transitions[0]\n",
    "transition"
   ]
  },
  {
   "cell_type": "code",
   "execution_count": 33,
   "metadata": {},
   "outputs": [
    {
     "data": {
      "text/plain": [
       "Markup('<a href=\"hlink://b63e2ef5-5c2b-4d5b-8b6c-69e320953bf6\">electrical power</a> is given via <a href=\"hlink://2efe3b77-5de0-40cc-9c42-583a99df0e73\">I_Env-Sys</a> interface')"
      ]
     },
     "execution_count": 33,
     "metadata": {},
     "output_type": "execute_result"
    }
   ],
   "source": [
    "guard_spec = transition.guard.specification['LinkedText']\n",
    "guard_spec"
   ]
  },
  {
   "cell_type": "code",
   "execution_count": 39,
   "metadata": {},
   "outputs": [
    {
     "data": {
      "text/html": [
       "\n",
       "While <a href=\"hlink://9f69487e-afa9-4aa7-bc14-37a0bb7fcd75\">de-powered</a> \n",
       "if <a href=\"hlink://b63e2ef5-5c2b-4d5b-8b6c-69e320953bf6\">electrical power</a> is given via <a href=\"hlink://2efe3b77-5de0-40cc-9c42-583a99df0e73\">I_Env-Sys</a> interface\n",
       "then the <a href=\"hlink://5357012d-0479-49d3-a6e7-26c0da89fed7\">System</a> \n",
       "shall enter <a href=\"hlink://0000bb4f-a06a-4e09-9f0b-df05b858d1d7\">Powered</a> state\n"
      ],
      "text/plain": [
       "<IPython.core.display.HTML object>"
      ]
     },
     "execution_count": 39,
     "metadata": {},
     "output_type": "execute_result"
    }
   ],
   "source": [
    "HTML(f\"\"\"\n",
    "While <a href=\"hlink://{transition.source.uuid}\">{transition.source.name}</a> \n",
    "if {guard_spec}\n",
    "then the <a href=\"hlink://{machine.parent.uuid}\">{machine.parent.name}</a> \n",
    "shall enter <a href=\"hlink://{transition.destination.uuid}\">{transition.destination.name}</a> state\n",
    "\"\"\")"
   ]
  }
 ],
 "metadata": {
  "kernelspec": {
   "display_name": "Python 3.10.6 64-bit",
   "language": "python",
   "name": "python3"
  },
  "language_info": {
   "codemirror_mode": {
    "name": "ipython",
    "version": 3
   },
   "file_extension": ".py",
   "mimetype": "text/x-python",
   "name": "python",
   "nbconvert_exporter": "python",
   "pygments_lexer": "ipython3",
   "version": "3.10.6"
  },
  "orig_nbformat": 4,
  "vscode": {
   "interpreter": {
    "hash": "e7370f93d1d0cde622a1f8e1c04877d8463912d04d973331ad4851f04de6915a"
   }
  }
 },
 "nbformat": 4,
 "nbformat_minor": 2
}
